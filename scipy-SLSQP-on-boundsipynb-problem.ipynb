{
 "cells": [
  {
   "cell_type": "code",
   "execution_count": 16,
   "metadata": {},
   "outputs": [
    {
     "data": {
      "application/vnd.plotly.v1+json": {
       "config": {
        "plotlyServerURL": "https://plot.ly"
       },
       "data": [
        {
         "name": "f(x)",
         "type": "scatter",
         "x": [
          -2,
          -1.9183673469387754,
          -1.836734693877551,
          -1.7551020408163265,
          -1.6734693877551021,
          -1.5918367346938775,
          -1.510204081632653,
          -1.4285714285714286,
          -1.3469387755102042,
          -1.2653061224489797,
          -1.183673469387755,
          -1.1020408163265307,
          -1.0204081632653061,
          -0.9387755102040818,
          -0.8571428571428572,
          -0.7755102040816328,
          -0.6938775510204083,
          -0.6122448979591837,
          -0.5306122448979593,
          -0.44897959183673475,
          -0.3673469387755104,
          -0.2857142857142858,
          -0.20408163265306145,
          -0.12244897959183687,
          -0.04081632653061229,
          0.04081632653061229,
          0.12244897959183643,
          0.204081632653061,
          0.2857142857142856,
          0.36734693877551017,
          0.4489795918367343,
          0.5306122448979589,
          0.6122448979591835,
          0.693877551020408,
          0.7755102040816326,
          0.8571428571428568,
          0.9387755102040813,
          1.020408163265306,
          1.1020408163265305,
          1.1836734693877546,
          1.2653061224489792,
          1.3469387755102038,
          1.4285714285714284,
          1.510204081632653,
          1.591836734693877,
          1.6734693877551017,
          1.7551020408163263,
          1.8367346938775508,
          1.9183673469387754,
          2
         ],
         "xaxis": "x",
         "y": [
          4,
          3.680133277800916,
          3.3735943356934612,
          3.080383173677634,
          2.8004997917534364,
          2.533944189920866,
          2.2807163681799247,
          2.0408163265306123,
          1.8142440649729283,
          1.6009995835068722,
          1.4010828821324448,
          1.2144939608496463,
          1.0412328196584757,
          0.8812994585589341,
          0.7346938775510206,
          0.6014160766347358,
          0.4814660558100793,
          0.3748438150770512,
          0.281549354435652,
          0.20158267388588094,
          0.13494377342773858,
          0.08163265306122454,
          0.04164931278633912,
          0.014993752603082082,
          0.0016659725114535648,
          0.0016659725114535648,
          0.014993752603081974,
          0.04164931278633894,
          0.08163265306122441,
          0.13494377342773842,
          0.20158267388588053,
          0.2815493544356515,
          0.37484381507705095,
          0.48146605581007895,
          0.6014160766347355,
          0.7346938775510198,
          0.8812994585589332,
          1.0412328196584753,
          1.2144939608496457,
          1.4010828821324437,
          1.600999583506871,
          1.8142440649729272,
          2.040816326530612,
          2.2807163681799247,
          2.533944189920865,
          2.8004997917534347,
          3.0803831736776335,
          3.3735943356934603,
          3.680133277800916,
          4
         ],
         "yaxis": "y"
        },
        {
         "name": "c(x)",
         "type": "scatter",
         "x": [
          -2,
          -1.9183673469387754,
          -1.836734693877551,
          -1.7551020408163265,
          -1.6734693877551021,
          -1.5918367346938775,
          -1.510204081632653,
          -1.4285714285714286,
          -1.3469387755102042,
          -1.2653061224489797,
          -1.183673469387755,
          -1.1020408163265307,
          -1.0204081632653061,
          -0.9387755102040818,
          -0.8571428571428572,
          -0.7755102040816328,
          -0.6938775510204083,
          -0.6122448979591837,
          -0.5306122448979593,
          -0.44897959183673475,
          -0.3673469387755104,
          -0.2857142857142858,
          -0.20408163265306145,
          -0.12244897959183687,
          -0.04081632653061229,
          0.04081632653061229,
          0.12244897959183643,
          0.204081632653061,
          0.2857142857142856,
          0.36734693877551017,
          0.4489795918367343,
          0.5306122448979589,
          0.6122448979591835,
          0.693877551020408,
          0.7755102040816326,
          0.8571428571428568,
          0.9387755102040813,
          1.020408163265306,
          1.1020408163265305,
          1.1836734693877546,
          1.2653061224489792,
          1.3469387755102038,
          1.4285714285714284,
          1.510204081632653,
          1.591836734693877,
          1.6734693877551017,
          1.7551020408163263,
          1.8367346938775508,
          1.9183673469387754,
          2
         ],
         "xaxis": "x2",
         "y": [
          3,
          1.5029811089749643,
          0.26035573474262286,
          -0.7523890243566083,
          -1.5587002916492692,
          -2.1809594121288827,
          -2.640481952455948,
          -2.9575177009579345,
          -3.1512506676292893,
          -3.2397990841314384,
          -3.240215403792776,
          -3.1684863016086773,
          -3.0395326742414874,
          -2.8672096400205316,
          -2.664306538942108,
          -2.4425469326694893,
          -2.2125886045329235,
          -1.9840235595296352,
          -1.7653780243238235,
          -1.5641124472466614,
          -1.386621498296299,
          -1.2382340691378593,
          -1.123213273103443,
          -1.0447564451921239,
          -1.0049951420699519,
          -1.0049951420699519,
          -1.0447564451921234,
          -1.1232132731034425,
          -1.238234069137859,
          -1.3866214982962983,
          -1.5641124472466603,
          -1.7653780243238222,
          -1.9840235595296343,
          -2.2125886045329226,
          -2.4425469326694884,
          -2.6643065389421063,
          -2.8672096400205307,
          -3.039532674241487,
          -3.1684863016086764,
          -3.2402154037927753,
          -3.2397990841314384,
          -3.151250667629291,
          -2.9575177009579354,
          -2.640481952455948,
          -2.180959412128886,
          -1.5587002916492718,
          -0.7523890243566118,
          0.2603557347426193,
          1.5029811089749643,
          3
         ],
         "yaxis": "y2"
        },
        {
         "name": "f(x)",
         "type": "scatter",
         "x": [
          -2,
          -1.9183673469387754,
          -1.836734693877551,
          -1.7551020408163265,
          -1.6734693877551021,
          -1.5918367346938775,
          -1.510204081632653,
          -1.4285714285714286,
          -1.3469387755102042,
          -1.2653061224489797,
          -1.183673469387755,
          -1.1020408163265307,
          -1.0204081632653061,
          -0.9387755102040818,
          -0.8571428571428572,
          -0.7755102040816328,
          -0.6938775510204083,
          -0.6122448979591837,
          -0.5306122448979593,
          -0.44897959183673475,
          -0.3673469387755104,
          -0.2857142857142858,
          -0.20408163265306145,
          -0.12244897959183687,
          -0.04081632653061229,
          0.04081632653061229,
          0.12244897959183643,
          0.204081632653061,
          0.2857142857142856,
          0.36734693877551017,
          0.4489795918367343,
          0.5306122448979589,
          0.6122448979591835,
          0.693877551020408,
          0.7755102040816326,
          0.8571428571428568,
          0.9387755102040813,
          1.020408163265306,
          1.1020408163265305,
          1.1836734693877546,
          1.2653061224489792,
          1.3469387755102038,
          1.4285714285714284,
          1.510204081632653,
          1.591836734693877,
          1.6734693877551017,
          1.7551020408163263,
          1.8367346938775508,
          1.9183673469387754,
          2
         ],
         "xaxis": "x3",
         "y": [
          4,
          3.680133277800916,
          3.3735943356934612,
          3.080383173677634,
          2.8004997917534364,
          2.533944189920866,
          2.2807163681799247,
          2.0408163265306123,
          1.8142440649729283,
          1.6009995835068722,
          1.4010828821324448,
          1.2144939608496463,
          1.0412328196584757,
          0.8812994585589341,
          0.7346938775510206,
          0.6014160766347358,
          0.4814660558100793,
          0.3748438150770512,
          0.281549354435652,
          0.20158267388588094,
          0.13494377342773858,
          0.08163265306122454,
          0.04164931278633912,
          0.014993752603082082,
          0.0016659725114535648,
          0.0016659725114535648,
          0.014993752603081974,
          0.04164931278633894,
          0.08163265306122441,
          0.13494377342773842,
          0.20158267388588053,
          0.2815493544356515,
          0.37484381507705095,
          0.48146605581007895,
          0.6014160766347355,
          0.7346938775510198,
          0.8812994585589332,
          1.0412328196584753,
          1.2144939608496457,
          1.4010828821324437,
          1.600999583506871,
          1.8142440649729272,
          2.040816326530612,
          2.2807163681799247,
          2.533944189920865,
          2.8004997917534347,
          3.0803831736776335,
          3.3735943356934603,
          3.680133277800916,
          4
         ],
         "yaxis": "y3"
        },
        {
         "name": "c(x)",
         "type": "scatter",
         "x": [
          -2,
          -1.9183673469387754,
          -1.836734693877551,
          -1.7551020408163265,
          -1.6734693877551021,
          -1.5918367346938775,
          -1.510204081632653,
          -1.4285714285714286,
          -1.3469387755102042,
          -1.2653061224489797,
          -1.183673469387755,
          -1.1020408163265307,
          -1.0204081632653061,
          -0.9387755102040818,
          -0.8571428571428572,
          -0.7755102040816328,
          -0.6938775510204083,
          -0.6122448979591837,
          -0.5306122448979593,
          -0.44897959183673475,
          -0.3673469387755104,
          -0.2857142857142858,
          -0.20408163265306145,
          -0.12244897959183687,
          -0.04081632653061229,
          0.04081632653061229,
          0.12244897959183643,
          0.204081632653061,
          0.2857142857142856,
          0.36734693877551017,
          0.4489795918367343,
          0.5306122448979589,
          0.6122448979591835,
          0.693877551020408,
          0.7755102040816326,
          0.8571428571428568,
          0.9387755102040813,
          1.020408163265306,
          1.1020408163265305,
          1.1836734693877546,
          1.2653061224489792,
          1.3469387755102038,
          1.4285714285714284,
          1.510204081632653,
          1.591836734693877,
          1.6734693877551017,
          1.7551020408163263,
          1.8367346938775508,
          1.9183673469387754,
          2
         ],
         "xaxis": "x3",
         "y": [
          3,
          1.5029811089749643,
          0.26035573474262286,
          -0.7523890243566083,
          -1.5587002916492692,
          -2.1809594121288827,
          -2.640481952455948,
          -2.9575177009579345,
          -3.1512506676292893,
          -3.2397990841314384,
          -3.240215403792776,
          -3.1684863016086773,
          -3.0395326742414874,
          -2.8672096400205316,
          -2.664306538942108,
          -2.4425469326694893,
          -2.2125886045329235,
          -1.9840235595296352,
          -1.7653780243238235,
          -1.5641124472466614,
          -1.386621498296299,
          -1.2382340691378593,
          -1.123213273103443,
          -1.0447564451921239,
          -1.0049951420699519,
          -1.0049951420699519,
          -1.0447564451921234,
          -1.1232132731034425,
          -1.238234069137859,
          -1.3866214982962983,
          -1.5641124472466603,
          -1.7653780243238222,
          -1.9840235595296343,
          -2.2125886045329226,
          -2.4425469326694884,
          -2.6643065389421063,
          -2.8672096400205307,
          -3.039532674241487,
          -3.1684863016086764,
          -3.2402154037927753,
          -3.2397990841314384,
          -3.151250667629291,
          -2.9575177009579354,
          -2.640481952455948,
          -2.180959412128886,
          -1.5587002916492718,
          -0.7523890243566118,
          0.2603557347426193,
          1.5029811089749643,
          3
         ],
         "yaxis": "y3"
        }
       ],
       "layout": {
        "annotations": [
         {
          "font": {
           "size": 16
          },
          "showarrow": false,
          "text": "Objective function f(x)",
          "x": 0.225,
          "xanchor": "center",
          "xref": "paper",
          "y": 1,
          "yanchor": "bottom",
          "yref": "paper"
         },
         {
          "font": {
           "size": 16
          },
          "showarrow": false,
          "text": "Constraint function c(x)",
          "x": 0.775,
          "xanchor": "center",
          "xref": "paper",
          "y": 1,
          "yanchor": "bottom",
          "yref": "paper"
         }
        ],
        "shapes": [
         {
          "line": {
           "dash": "dash"
          },
          "type": "line",
          "x0": -1,
          "x1": -1,
          "xref": "x",
          "y0": 0,
          "y1": 1,
          "yref": "y domain"
         },
         {
          "line": {
           "dash": "dash"
          },
          "type": "line",
          "x0": -1,
          "x1": -1,
          "xref": "x2",
          "y0": 0,
          "y1": 1,
          "yref": "y2 domain"
         },
         {
          "line": {
           "dash": "dash"
          },
          "type": "line",
          "x0": -1,
          "x1": -1,
          "xref": "x3",
          "y0": 0,
          "y1": 1,
          "yref": "y3 domain"
         }
        ],
        "template": {
         "data": {
          "bar": [
           {
            "error_x": {
             "color": "#2a3f5f"
            },
            "error_y": {
             "color": "#2a3f5f"
            },
            "marker": {
             "line": {
              "color": "#E5ECF6",
              "width": 0.5
             },
             "pattern": {
              "fillmode": "overlay",
              "size": 10,
              "solidity": 0.2
             }
            },
            "type": "bar"
           }
          ],
          "barpolar": [
           {
            "marker": {
             "line": {
              "color": "#E5ECF6",
              "width": 0.5
             },
             "pattern": {
              "fillmode": "overlay",
              "size": 10,
              "solidity": 0.2
             }
            },
            "type": "barpolar"
           }
          ],
          "carpet": [
           {
            "aaxis": {
             "endlinecolor": "#2a3f5f",
             "gridcolor": "white",
             "linecolor": "white",
             "minorgridcolor": "white",
             "startlinecolor": "#2a3f5f"
            },
            "baxis": {
             "endlinecolor": "#2a3f5f",
             "gridcolor": "white",
             "linecolor": "white",
             "minorgridcolor": "white",
             "startlinecolor": "#2a3f5f"
            },
            "type": "carpet"
           }
          ],
          "choropleth": [
           {
            "colorbar": {
             "outlinewidth": 0,
             "ticks": ""
            },
            "type": "choropleth"
           }
          ],
          "contour": [
           {
            "colorbar": {
             "outlinewidth": 0,
             "ticks": ""
            },
            "colorscale": [
             [
              0,
              "#0d0887"
             ],
             [
              0.1111111111111111,
              "#46039f"
             ],
             [
              0.2222222222222222,
              "#7201a8"
             ],
             [
              0.3333333333333333,
              "#9c179e"
             ],
             [
              0.4444444444444444,
              "#bd3786"
             ],
             [
              0.5555555555555556,
              "#d8576b"
             ],
             [
              0.6666666666666666,
              "#ed7953"
             ],
             [
              0.7777777777777778,
              "#fb9f3a"
             ],
             [
              0.8888888888888888,
              "#fdca26"
             ],
             [
              1,
              "#f0f921"
             ]
            ],
            "type": "contour"
           }
          ],
          "contourcarpet": [
           {
            "colorbar": {
             "outlinewidth": 0,
             "ticks": ""
            },
            "type": "contourcarpet"
           }
          ],
          "heatmap": [
           {
            "colorbar": {
             "outlinewidth": 0,
             "ticks": ""
            },
            "colorscale": [
             [
              0,
              "#0d0887"
             ],
             [
              0.1111111111111111,
              "#46039f"
             ],
             [
              0.2222222222222222,
              "#7201a8"
             ],
             [
              0.3333333333333333,
              "#9c179e"
             ],
             [
              0.4444444444444444,
              "#bd3786"
             ],
             [
              0.5555555555555556,
              "#d8576b"
             ],
             [
              0.6666666666666666,
              "#ed7953"
             ],
             [
              0.7777777777777778,
              "#fb9f3a"
             ],
             [
              0.8888888888888888,
              "#fdca26"
             ],
             [
              1,
              "#f0f921"
             ]
            ],
            "type": "heatmap"
           }
          ],
          "heatmapgl": [
           {
            "colorbar": {
             "outlinewidth": 0,
             "ticks": ""
            },
            "colorscale": [
             [
              0,
              "#0d0887"
             ],
             [
              0.1111111111111111,
              "#46039f"
             ],
             [
              0.2222222222222222,
              "#7201a8"
             ],
             [
              0.3333333333333333,
              "#9c179e"
             ],
             [
              0.4444444444444444,
              "#bd3786"
             ],
             [
              0.5555555555555556,
              "#d8576b"
             ],
             [
              0.6666666666666666,
              "#ed7953"
             ],
             [
              0.7777777777777778,
              "#fb9f3a"
             ],
             [
              0.8888888888888888,
              "#fdca26"
             ],
             [
              1,
              "#f0f921"
             ]
            ],
            "type": "heatmapgl"
           }
          ],
          "histogram": [
           {
            "marker": {
             "pattern": {
              "fillmode": "overlay",
              "size": 10,
              "solidity": 0.2
             }
            },
            "type": "histogram"
           }
          ],
          "histogram2d": [
           {
            "colorbar": {
             "outlinewidth": 0,
             "ticks": ""
            },
            "colorscale": [
             [
              0,
              "#0d0887"
             ],
             [
              0.1111111111111111,
              "#46039f"
             ],
             [
              0.2222222222222222,
              "#7201a8"
             ],
             [
              0.3333333333333333,
              "#9c179e"
             ],
             [
              0.4444444444444444,
              "#bd3786"
             ],
             [
              0.5555555555555556,
              "#d8576b"
             ],
             [
              0.6666666666666666,
              "#ed7953"
             ],
             [
              0.7777777777777778,
              "#fb9f3a"
             ],
             [
              0.8888888888888888,
              "#fdca26"
             ],
             [
              1,
              "#f0f921"
             ]
            ],
            "type": "histogram2d"
           }
          ],
          "histogram2dcontour": [
           {
            "colorbar": {
             "outlinewidth": 0,
             "ticks": ""
            },
            "colorscale": [
             [
              0,
              "#0d0887"
             ],
             [
              0.1111111111111111,
              "#46039f"
             ],
             [
              0.2222222222222222,
              "#7201a8"
             ],
             [
              0.3333333333333333,
              "#9c179e"
             ],
             [
              0.4444444444444444,
              "#bd3786"
             ],
             [
              0.5555555555555556,
              "#d8576b"
             ],
             [
              0.6666666666666666,
              "#ed7953"
             ],
             [
              0.7777777777777778,
              "#fb9f3a"
             ],
             [
              0.8888888888888888,
              "#fdca26"
             ],
             [
              1,
              "#f0f921"
             ]
            ],
            "type": "histogram2dcontour"
           }
          ],
          "mesh3d": [
           {
            "colorbar": {
             "outlinewidth": 0,
             "ticks": ""
            },
            "type": "mesh3d"
           }
          ],
          "parcoords": [
           {
            "line": {
             "colorbar": {
              "outlinewidth": 0,
              "ticks": ""
             }
            },
            "type": "parcoords"
           }
          ],
          "pie": [
           {
            "automargin": true,
            "type": "pie"
           }
          ],
          "scatter": [
           {
            "fillpattern": {
             "fillmode": "overlay",
             "size": 10,
             "solidity": 0.2
            },
            "type": "scatter"
           }
          ],
          "scatter3d": [
           {
            "line": {
             "colorbar": {
              "outlinewidth": 0,
              "ticks": ""
             }
            },
            "marker": {
             "colorbar": {
              "outlinewidth": 0,
              "ticks": ""
             }
            },
            "type": "scatter3d"
           }
          ],
          "scattercarpet": [
           {
            "marker": {
             "colorbar": {
              "outlinewidth": 0,
              "ticks": ""
             }
            },
            "type": "scattercarpet"
           }
          ],
          "scattergeo": [
           {
            "marker": {
             "colorbar": {
              "outlinewidth": 0,
              "ticks": ""
             }
            },
            "type": "scattergeo"
           }
          ],
          "scattergl": [
           {
            "marker": {
             "colorbar": {
              "outlinewidth": 0,
              "ticks": ""
             }
            },
            "type": "scattergl"
           }
          ],
          "scattermapbox": [
           {
            "marker": {
             "colorbar": {
              "outlinewidth": 0,
              "ticks": ""
             }
            },
            "type": "scattermapbox"
           }
          ],
          "scatterpolar": [
           {
            "marker": {
             "colorbar": {
              "outlinewidth": 0,
              "ticks": ""
             }
            },
            "type": "scatterpolar"
           }
          ],
          "scatterpolargl": [
           {
            "marker": {
             "colorbar": {
              "outlinewidth": 0,
              "ticks": ""
             }
            },
            "type": "scatterpolargl"
           }
          ],
          "scatterternary": [
           {
            "marker": {
             "colorbar": {
              "outlinewidth": 0,
              "ticks": ""
             }
            },
            "type": "scatterternary"
           }
          ],
          "surface": [
           {
            "colorbar": {
             "outlinewidth": 0,
             "ticks": ""
            },
            "colorscale": [
             [
              0,
              "#0d0887"
             ],
             [
              0.1111111111111111,
              "#46039f"
             ],
             [
              0.2222222222222222,
              "#7201a8"
             ],
             [
              0.3333333333333333,
              "#9c179e"
             ],
             [
              0.4444444444444444,
              "#bd3786"
             ],
             [
              0.5555555555555556,
              "#d8576b"
             ],
             [
              0.6666666666666666,
              "#ed7953"
             ],
             [
              0.7777777777777778,
              "#fb9f3a"
             ],
             [
              0.8888888888888888,
              "#fdca26"
             ],
             [
              1,
              "#f0f921"
             ]
            ],
            "type": "surface"
           }
          ],
          "table": [
           {
            "cells": {
             "fill": {
              "color": "#EBF0F8"
             },
             "line": {
              "color": "white"
             }
            },
            "header": {
             "fill": {
              "color": "#C8D4E3"
             },
             "line": {
              "color": "white"
             }
            },
            "type": "table"
           }
          ]
         },
         "layout": {
          "annotationdefaults": {
           "arrowcolor": "#2a3f5f",
           "arrowhead": 0,
           "arrowwidth": 1
          },
          "autotypenumbers": "strict",
          "coloraxis": {
           "colorbar": {
            "outlinewidth": 0,
            "ticks": ""
           }
          },
          "colorscale": {
           "diverging": [
            [
             0,
             "#8e0152"
            ],
            [
             0.1,
             "#c51b7d"
            ],
            [
             0.2,
             "#de77ae"
            ],
            [
             0.3,
             "#f1b6da"
            ],
            [
             0.4,
             "#fde0ef"
            ],
            [
             0.5,
             "#f7f7f7"
            ],
            [
             0.6,
             "#e6f5d0"
            ],
            [
             0.7,
             "#b8e186"
            ],
            [
             0.8,
             "#7fbc41"
            ],
            [
             0.9,
             "#4d9221"
            ],
            [
             1,
             "#276419"
            ]
           ],
           "sequential": [
            [
             0,
             "#0d0887"
            ],
            [
             0.1111111111111111,
             "#46039f"
            ],
            [
             0.2222222222222222,
             "#7201a8"
            ],
            [
             0.3333333333333333,
             "#9c179e"
            ],
            [
             0.4444444444444444,
             "#bd3786"
            ],
            [
             0.5555555555555556,
             "#d8576b"
            ],
            [
             0.6666666666666666,
             "#ed7953"
            ],
            [
             0.7777777777777778,
             "#fb9f3a"
            ],
            [
             0.8888888888888888,
             "#fdca26"
            ],
            [
             1,
             "#f0f921"
            ]
           ],
           "sequentialminus": [
            [
             0,
             "#0d0887"
            ],
            [
             0.1111111111111111,
             "#46039f"
            ],
            [
             0.2222222222222222,
             "#7201a8"
            ],
            [
             0.3333333333333333,
             "#9c179e"
            ],
            [
             0.4444444444444444,
             "#bd3786"
            ],
            [
             0.5555555555555556,
             "#d8576b"
            ],
            [
             0.6666666666666666,
             "#ed7953"
            ],
            [
             0.7777777777777778,
             "#fb9f3a"
            ],
            [
             0.8888888888888888,
             "#fdca26"
            ],
            [
             1,
             "#f0f921"
            ]
           ]
          },
          "colorway": [
           "#636efa",
           "#EF553B",
           "#00cc96",
           "#ab63fa",
           "#FFA15A",
           "#19d3f3",
           "#FF6692",
           "#B6E880",
           "#FF97FF",
           "#FECB52"
          ],
          "font": {
           "color": "#2a3f5f"
          },
          "geo": {
           "bgcolor": "white",
           "lakecolor": "white",
           "landcolor": "#E5ECF6",
           "showlakes": true,
           "showland": true,
           "subunitcolor": "white"
          },
          "hoverlabel": {
           "align": "left"
          },
          "hovermode": "closest",
          "mapbox": {
           "style": "light"
          },
          "paper_bgcolor": "white",
          "plot_bgcolor": "#E5ECF6",
          "polar": {
           "angularaxis": {
            "gridcolor": "white",
            "linecolor": "white",
            "ticks": ""
           },
           "bgcolor": "#E5ECF6",
           "radialaxis": {
            "gridcolor": "white",
            "linecolor": "white",
            "ticks": ""
           }
          },
          "scene": {
           "xaxis": {
            "backgroundcolor": "#E5ECF6",
            "gridcolor": "white",
            "gridwidth": 2,
            "linecolor": "white",
            "showbackground": true,
            "ticks": "",
            "zerolinecolor": "white"
           },
           "yaxis": {
            "backgroundcolor": "#E5ECF6",
            "gridcolor": "white",
            "gridwidth": 2,
            "linecolor": "white",
            "showbackground": true,
            "ticks": "",
            "zerolinecolor": "white"
           },
           "zaxis": {
            "backgroundcolor": "#E5ECF6",
            "gridcolor": "white",
            "gridwidth": 2,
            "linecolor": "white",
            "showbackground": true,
            "ticks": "",
            "zerolinecolor": "white"
           }
          },
          "shapedefaults": {
           "line": {
            "color": "#2a3f5f"
           }
          },
          "ternary": {
           "aaxis": {
            "gridcolor": "white",
            "linecolor": "white",
            "ticks": ""
           },
           "baxis": {
            "gridcolor": "white",
            "linecolor": "white",
            "ticks": ""
           },
           "bgcolor": "#E5ECF6",
           "caxis": {
            "gridcolor": "white",
            "linecolor": "white",
            "ticks": ""
           }
          },
          "title": {
           "x": 0.05
          },
          "xaxis": {
           "automargin": true,
           "gridcolor": "white",
           "linecolor": "white",
           "ticks": "",
           "title": {
            "standoff": 15
           },
           "zerolinecolor": "white",
           "zerolinewidth": 2
          },
          "yaxis": {
           "automargin": true,
           "gridcolor": "white",
           "linecolor": "white",
           "ticks": "",
           "title": {
            "standoff": 15
           },
           "zerolinecolor": "white",
           "zerolinewidth": 2
          }
         }
        },
        "xaxis": {
         "anchor": "y",
         "domain": [
          0,
          0.45
         ]
        },
        "xaxis2": {
         "anchor": "y2",
         "domain": [
          0.55,
          1
         ]
        },
        "xaxis3": {
         "anchor": "y3",
         "domain": [
          0,
          0.45
         ]
        },
        "xaxis4": {
         "anchor": "y4",
         "domain": [
          0.55,
          1
         ]
        },
        "yaxis": {
         "anchor": "x",
         "domain": [
          0.625,
          1
         ]
        },
        "yaxis2": {
         "anchor": "x2",
         "domain": [
          0.625,
          1
         ]
        },
        "yaxis3": {
         "anchor": "x3",
         "domain": [
          0,
          0.375
         ]
        },
        "yaxis4": {
         "anchor": "x4",
         "domain": [
          0,
          0.375
         ]
        }
       }
      }
     },
     "metadata": {},
     "output_type": "display_data"
    },
    {
     "name": "stdout",
     "output_type": "stream",
     "text": [
      "Initial point at x=-1, Minimum point found at ([2.22044605e-16], [4.93038066e-32])\n",
      "Initial point at x=-1, Minimum point found at ([-33554431.99999999], [1.12589991e+15])\n",
      "Initial point at x=-1, Minimum point found at ([-0.1], [0.01])\n",
      "Initial point at x=-1, constraint value here is [-1.0299]\n",
      "Positive directional derivative for linesearch\n",
      "8\n",
      "False\n",
      "true that min val is less than upper bound\n",
      "1\n"
     ]
    },
    {
     "data": {
      "text/plain": [
       "Text(0.5, 0.98, 'blue X is initial point, red o is solution')"
      ]
     },
     "execution_count": 16,
     "metadata": {},
     "output_type": "execute_result"
    },
    {
     "data": {
      "image/png": "[encoded data removed]",
      "text/plain": [
       "<Figure size 1250x500 with 3 Axes>"
      ]
     },
     "metadata": {},
     "output_type": "display_data"
    }
   ],
   "source": [
    "# trying the bounds.ipynb problem with scipy.optimize.minimize(method=\"SLSQP\")\n",
    "# no bounds to start with\n",
    "import numpy as np\n",
    "import scipy.optimize\n",
    "from plotly.subplots import make_subplots\n",
    "import plotly.graph_objects as go\n",
    "import matplotlib\n",
    "import matplotlib.pyplot as plt\n",
    "\n",
    "def f(x):\n",
    "    return x**2\n",
    "\n",
    "def c(x):\n",
    "    return x**4 - (3 * x **2) - 1\n",
    "\n",
    "x0 = -1\n",
    "xs = np.linspace(-2, 2)\n",
    "\n",
    "fig = make_subplots(rows=2, cols=2, subplot_titles=(\"Objective function f(x)\", \"Constraint function c(x)\"))\n",
    "fig.add_scatter(x=xs, y=f(xs), name='f(x)', row=1, col=1)\n",
    "fig.add_scatter(x=xs, y=c(xs), name='c(x)', row=1, col=2)\n",
    "\n",
    "fig.add_scatter(x=xs, y=f(xs), name='f(x)', row=2, col=1)\n",
    "fig.add_scatter(x=xs, y=c(xs), name='c(x)', row=2, col=1)\n",
    "\n",
    "fig.add_vline(x=x0, line_dash=\"dash\")\n",
    "fig.show()\n",
    "\n",
    "# no constraint to start with\n",
    "result = scipy.optimize.minimize(fun=f, x0=x0, method='SLSQP')\n",
    "min_val = result.x\n",
    "print(f\"Initial point at x={x0}, Minimum point found at ({min_val}, {f(min_val)})\")\n",
    "print(result.message)\n",
    "print(result.status)\n",
    "print(result.success)\n",
    "\n",
    "# add constraint c(x) now\n",
    "cons=({'type': 'ineq', 'fun': c})\n",
    "result_con = scipy.optimize.minimize(fun=f, x0=x0, method='SLSQP', constraints=cons)\n",
    "min_val_con = result_con.x\n",
    "print(f\"Initial point at x={x0}, Minimum point found at ({min_val_con}, {f(min_val_con)})\")\n",
    "print(result_con.message)\n",
    "print(result_con.status)\n",
    "print(result_con.success)\n",
    "\n",
    "# add bounds and constraint\n",
    "bounds = [(-np.inf, -0.1)]\n",
    "res_con_bds = scipy.optimize.minimize(fun=f, x0=x0, method='SLSQP', constraints=cons, bounds=bounds)\n",
    "min_val_con_bound = res_con_bds.x\n",
    "print(f\"Initial point at x={x0}, Minimum point found at ({min_val_con_bound}, {f(min_val_con_bound)})\")\n",
    "print(f\"Initial point at x={x0}, constraint value here is {c(min_val_con_bound)}\")\n",
    "print(res_con_bds.message)\n",
    "print(res_con_bds.status)\n",
    "print(res_con_bds.success)\n",
    "\n",
    "\n",
    "\n",
    "if min_val_con_bound <= bounds[0][1]:\n",
    "    print('true that min val is less than upper bound')\n",
    "\n",
    "i=0\n",
    "print(f(x0))\n",
    "fig, (ax1, ax2, ax3) = plt.subplots(1,3, figsize=(12.5,5))\n",
    "axs = [ax1, ax2, ax3]\n",
    "sols = [min_val, min_val_con, min_val_con_bound]\n",
    "subplot_titles=[\"No constraint and no bounds\", \"Constraint and no bounds\", \"Constraint and bounds\"]\n",
    "for i in [0,1,2]:\n",
    "    axs[i].plot(xs, f(xs))\n",
    "    axs[i].plot(x0, f(x0), marker='X', color='blue')\n",
    "    axs[i].plot(sols[i], f(sols[i]), marker='o', color='red')\n",
    "    if i != 0:\n",
    "        axs[i].plot(xs, c(xs))\n",
    "        axs[i].plot(x0, c(x0), marker='X', color='pink')\n",
    "        axs[i].plot(sols[i], c(sols[i]), marker='o', color='orange')\n",
    "    axs[i].title.set_text(subplot_titles[i])\n",
    "    axs[i].grid()\n",
    "    axs[i].axvline(x=x0, color='black', linestyle='--')\n",
    "    i=+1\n",
    "fig.suptitle('blue X is initial point, red o is solution')\n",
    "\n"
   ]
  },
  {
   "cell_type": "code",
   "execution_count": null,
   "metadata": {},
   "outputs": [],
   "source": []
  }
 ],
 "metadata": {
  "kernelspec": {
   "display_name": "env",
   "language": "python",
   "name": "python3"
  },
  "language_info": {
   "codemirror_mode": {
    "name": "ipython",
    "version": 3
   },
   "file_extension": ".py",
   "mimetype": "text/x-python",
   "name": "python",
   "nbconvert_exporter": "python",
   "pygments_lexer": "ipython3",
   "version": "3.10.12"
  }
 },
 "nbformat": 4,
 "nbformat_minor": 2
}
