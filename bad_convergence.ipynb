{
 "cells": [
  {
   "cell_type": "markdown",
   "metadata": {},
   "source": [
    "# Bad Convergence in VMCON\n",
    "\n",
    "This notebook demonstrates VMCON failing to solve a very simple constrained problem. This occurs, I believe, because the 'local' area around the *initial* point looks to be down in all directions, and the QPP cannot see a way to satisfy the constraints."
   ]
  },
  {
   "cell_type": "markdown",
   "metadata": {},
   "source": [
    "# Problem Setup"
   ]
  },
  {
   "cell_type": "code",
   "execution_count": null,
   "metadata": {},
   "outputs": [],
   "source": [
    "INITIAL_X = 0.01\n",
    "\n",
    "def f(x):\n",
    "    return -x**2\n",
    "\n",
    "def df(x):\n",
    "    return -2*x\n",
    "\n",
    "CONSTRAINT = 6\n",
    "\n",
    "def c(x):\n",
    "    return 1.1*x**4 - (3*x**2) + 1\n",
    "\n",
    "def dc(x):\n",
    "    return 4.4*x**3 - (6*x)"
   ]
  },
  {
   "cell_type": "code",
   "execution_count": null,
   "metadata": {},
   "outputs": [],
   "source": [
    "from plotly.subplots import make_subplots\n",
    "import numpy as np\n",
    "\n",
    "xs = np.linspace(-2, 2)\n",
    "\n",
    "fig = make_subplots(rows=2, cols=2, subplot_titles=(\"Objective function f(x)\", \"Constraint function c(x)\", \"\", \"Derivative constraint function c'(x)\"))\n",
    "\n",
    "fig.add_scatter(\n",
    "    x=xs, y=f(xs), name=\"f(x)\", row=1, col=1\n",
    ")\n",
    "\n",
    "fig.add_scatter(\n",
    "    x=xs, y=df(xs), name=\"f'(x)\", row=1, col=1\n",
    ")\n",
    "\n",
    "fig.add_scatter(\n",
    "    x=xs, y=c(xs), name=\"c(x)\", row=1, col=2\n",
    ")\n",
    "\n",
    "fig.add_scatter(\n",
    "    x=[xs[0], xs[-1]], \n",
    "    y=[CONSTRAINT, CONSTRAINT], \n",
    "    name=\"Constraint lower bound\", \n",
    "    mode=\"lines\",\n",
    "    line={\"dash\": \"dash\"},\n",
    "    row=1, \n",
    "    col=2,\n",
    ")\n",
    "\n",
    "fig.add_scatter(\n",
    "    x=xs, y=dc(xs), name=\"c'(x)\", row=2, col=2\n",
    ")\n",
    "\n",
    "fig.add_vline(x=INITIAL_X, line_dash=\"dash\")\n",
    "\n",
    "fig.show()\n"
   ]
  },
  {
   "cell_type": "code",
   "execution_count": null,
   "metadata": {},
   "outputs": [],
   "source": [
    "print(f\"f'(x0) = {df(INITIAL_X)}\")\n",
    "print(f\"c'(x0) = {dc(INITIAL_X)}\")"
   ]
  },
  {
   "cell_type": "markdown",
   "metadata": {},
   "source": [
    "## QPP Plots\n",
    "\n",
    "The Quadratic Programming Problem is outlined in Equation 4. The QPP will have no solution if the 'QPP constraint | x0' line is never greater than 'QPP constraint lower bound'."
   ]
  },
  {
   "cell_type": "code",
   "execution_count": null,
   "metadata": {},
   "outputs": [],
   "source": [
    "import plotly.graph_objects as go\n",
    "\n",
    "def Q_for_x0(delta):\n",
    "    # this is reduced because we have a 1D function and no hessian because 1D identity is 1\n",
    "    return f(INITIAL_X) + delta*df(INITIAL_X) + 0.5*delta**2\n",
    "\n",
    "def constraint_for_x0(delta):\n",
    "    # remember constraint is c(x) - lower_bound\n",
    "    return dc(INITIAL_X)*delta + (c(INITIAL_X) - CONSTRAINT)\n",
    "\n",
    "deltas = np.linspace(-2, 2)\n",
    "\n",
    "fig = go.Figure()\n",
    "\n",
    "fig.add_scatter(x=deltas, y=Q_for_x0(deltas), name=\"Q(delta) | x0\")\n",
    "fig.add_scatter(x=deltas, y=constraint_for_x0(deltas), name=\"QPP constraint | x0\")\n",
    "fig.add_scatter(\n",
    "    x=[deltas[0], deltas[-1]], \n",
    "    y=[0, 0], \n",
    "    name=\"QPP constraint lower bound\",\n",
    "    mode=\"lines\",\n",
    "    line={\"dash\": \"dash\"}\n",
    ")"
   ]
  },
  {
   "cell_type": "code",
   "execution_count": null,
   "metadata": {},
   "outputs": [],
   "source": [
    "print(\n",
    "    f\"QPP will be solvable for delta {'<=' if dc(INITIAL_X) < 0 else '>='} \" \n",
    "    f\"{(CONSTRAINT - c(INITIAL_X))/dc(INITIAL_X)}\"\n",
    ")"
   ]
  },
  {
   "cell_type": "markdown",
   "metadata": {},
   "source": [
    "So long as the orange line has a gradient, a solution to the QPP should be possible so it is unclear why CVXPY cannot solve this problem. More investigation is needed. "
   ]
  },
  {
   "cell_type": "markdown",
   "metadata": {},
   "source": [
    "## VMCON Solve"
   ]
  },
  {
   "cell_type": "code",
   "execution_count": null,
   "metadata": {},
   "outputs": [],
   "source": [
    "from pyvmcon import Problem\n",
    "\n",
    "problem = Problem(\n",
    "    f=f,\n",
    "    df=df,\n",
    "    equality_constraints=[],\n",
    "    inequality_constraints=[lambda x: c(x) - CONSTRAINT],\n",
    "    dequality_constraints=[],\n",
    "    dinequality_constraints=[lambda x: dc(x)]\n",
    ")"
   ]
  },
  {
   "cell_type": "code",
   "execution_count": null,
   "metadata": {},
   "outputs": [],
   "source": [
    "from pyvmcon import solve\n",
    "\n",
    "x, _, _, result = solve(problem, np.array([INITIAL_X]))"
   ]
  },
  {
   "cell_type": "code",
   "execution_count": null,
   "metadata": {},
   "outputs": [],
   "source": [
    "x"
   ]
  }
 ],
 "metadata": {
  "kernelspec": {
   "display_name": ".venv",
   "language": "python",
   "name": "python3"
  },
  "language_info": {
   "codemirror_mode": {
    "name": "ipython",
    "version": 3
   },
   "file_extension": ".py",
   "mimetype": "text/x-python",
   "name": "python",
   "nbconvert_exporter": "python",
   "pygments_lexer": "ipython3",
   "version": "3.10.12"
  }
 },
 "nbformat": 4,
 "nbformat_minor": 2
}
