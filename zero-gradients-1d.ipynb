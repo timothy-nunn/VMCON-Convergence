{
 "cells": [
  {
   "cell_type": "markdown",
   "metadata": {},
   "source": [
    "# A Zeroing of the Gradients in One Dimensions\n",
    "\n",
    "The 1D case of VMCON is trivial to solve and show. A zeroing of any of the **constraint** gradients will cause the QPP to become unsolvable."
   ]
  },
  {
   "cell_type": "code",
   "execution_count": null,
   "metadata": {},
   "outputs": [],
   "source": [
    "INITIAL_X = 0\n",
    "\n",
    "def f(x):\n",
    "    return x**2 + 2*x\n",
    "\n",
    "def df(x):\n",
    "    return 2*x + 2\n",
    "\n",
    "CONSTRAINT = 6\n",
    "\n",
    "def c1(x):\n",
    "    return 1.1*x**4 - (3*x**2) + 1\n",
    "\n",
    "def dc1(x):\n",
    "    return 4.4*x**3 - (6*x)"
   ]
  },
  {
   "cell_type": "code",
   "execution_count": null,
   "metadata": {},
   "outputs": [],
   "source": [
    "from plotly.subplots import make_subplots\n",
    "import numpy as np\n",
    "\n",
    "xs = np.linspace(-2, 2)\n",
    "\n",
    "fig = make_subplots(rows=2, cols=2, subplot_titles=(\"Objective function f(x)\", \"Constraint function c(x)\", \"\", \"Derivative constraint function c'(x)\"))\n",
    "\n",
    "fig.add_scatter(\n",
    "    x=xs, y=f(xs), name=\"f(x)\", row=1, col=1\n",
    ")\n",
    "\n",
    "fig.add_scatter(\n",
    "    x=xs, y=df(xs), name=\"f'(x)\", row=1, col=1\n",
    ")\n",
    "\n",
    "fig.add_scatter(\n",
    "    x=xs, y=c1(xs), name=\"c(x)\", row=1, col=2\n",
    ")\n",
    "\n",
    "fig.add_scatter(\n",
    "    x=[xs[0], xs[-1]], \n",
    "    y=[CONSTRAINT, CONSTRAINT], \n",
    "    name=\"Constraint lower bound\", \n",
    "    mode=\"lines\",\n",
    "    line={\"dash\": \"dash\"},\n",
    "    row=1, \n",
    "    col=2,\n",
    ")\n",
    "\n",
    "fig.add_scatter(\n",
    "    x=xs, y=dc1(xs), name=\"c'(x)\", row=2, col=2\n",
    ")\n",
    "\n",
    "fig.add_vline(x=INITIAL_X, line_dash=\"dash\")\n",
    "\n",
    "fig.show()\n"
   ]
  },
  {
   "cell_type": "code",
   "execution_count": null,
   "metadata": {},
   "outputs": [],
   "source": [
    "print(f\"f'(x0) = {df(INITIAL_X)}\")\n",
    "print(f\"c'(x0) = {dc1(INITIAL_X)}\")"
   ]
  },
  {
   "cell_type": "code",
   "execution_count": null,
   "metadata": {},
   "outputs": [],
   "source": [
    "from pyvmcon import Problem\n",
    "\n",
    "problem = Problem(\n",
    "    f=f,\n",
    "    df=df,\n",
    "    equality_constraints=[],\n",
    "    inequality_constraints=[lambda x: c1(x) - CONSTRAINT],\n",
    "    dequality_constraints=[],\n",
    "    dinequality_constraints=[lambda x: dc1(x)]\n",
    ")"
   ]
  },
  {
   "cell_type": "code",
   "execution_count": null,
   "metadata": {},
   "outputs": [],
   "source": [
    "from pyvmcon import solve\n",
    "\n",
    "x, _, _, result = solve(\n",
    "    problem, \n",
    "    np.array([INITIAL_X]), \n",
    "    callback=lambda i, _r, _x, _cp: print(i)\n",
    ")\n"
   ]
  },
  {
   "cell_type": "markdown",
   "metadata": {},
   "source": [
    "This would be true if **any** of the constraints were `0`."
   ]
  }
 ],
 "metadata": {
  "kernelspec": {
   "display_name": ".venv",
   "language": "python",
   "name": "python3"
  },
  "language_info": {
   "codemirror_mode": {
    "name": "ipython",
    "version": 3
   },
   "file_extension": ".py",
   "mimetype": "text/x-python",
   "name": "python",
   "nbconvert_exporter": "python",
   "pygments_lexer": "ipython3",
   "version": "3.10.12"
  }
 },
 "nbformat": 4,
 "nbformat_minor": 2
}
