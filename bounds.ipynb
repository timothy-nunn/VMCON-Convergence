{
 "cells": [
  {
   "cell_type": "markdown",
   "metadata": {},
   "source": [
    "# Using Bounds to Fail to QPP\n",
    "\n",
    "Demonstrating how bounds can be employed to cause VMCON to fail. In my opinion, this is *likely* what is causing the QPP to immediately fail in PROCESS."
   ]
  },
  {
   "cell_type": "code",
   "execution_count": null,
   "metadata": {},
   "outputs": [],
   "source": [
    "X0 = 1.5\n",
    "\n",
    "def f(x):\n",
    "    return x**2\n",
    "\n",
    "def df(x):\n",
    "    return 2*x\n",
    "\n",
    "\n",
    "def c(x):\n",
    "    return x**4 - (3*x**2) - 1\n",
    "\n",
    "def dc(x):\n",
    "    return 4*x**3 - (6*x)"
   ]
  },
  {
   "cell_type": "code",
   "execution_count": null,
   "metadata": {},
   "outputs": [],
   "source": [
    "from plotly.subplots import make_subplots\n",
    "import numpy as np\n",
    "\n",
    "xs = np.linspace(-2, 2)\n",
    "\n",
    "fig = make_subplots(rows=2, cols=2, subplot_titles=(\"Objective function f(x)\", \"Constraint function c(x)\", \"\", \"Derivative constraint function c'(x)\"))\n",
    "\n",
    "fig.add_scatter(\n",
    "    x=xs, y=f(xs), name=\"f(x)\", row=1, col=1\n",
    ")\n",
    "\n",
    "fig.add_scatter(\n",
    "    x=xs, y=df(xs), name=\"f'(x)\", row=1, col=1\n",
    ")\n",
    "\n",
    "fig.add_scatter(\n",
    "    x=xs, y=c(xs), name=\"c(x)\", row=1, col=2\n",
    ")\n",
    "\n",
    "fig.add_scatter(\n",
    "    x=[xs[0], xs[-1]], \n",
    "    y=[0, 0], \n",
    "    name=\"Constraint lower bound\", \n",
    "    mode=\"lines\",\n",
    "    line={\"dash\": \"dash\"},\n",
    "    row=1, \n",
    "    col=2,\n",
    ")\n",
    "\n",
    "fig.add_scatter(\n",
    "    x=xs, y=dc(xs), name=\"c'(x)\", row=2, col=2\n",
    ")\n",
    "\n",
    "fig.add_vline(x=X0, line_dash=\"dash\")\n",
    "\n",
    "fig.show()\n"
   ]
  },
  {
   "cell_type": "code",
   "execution_count": null,
   "metadata": {},
   "outputs": [],
   "source": [
    "print(f\"f'(x0) = {df(X0)}\")\n",
    "print(f\"c'(x0) = {dc(X0)}\")"
   ]
  },
  {
   "cell_type": "markdown",
   "metadata": {},
   "source": [
    "## QPP\n",
    "\n",
    "Because this problem is 1D, we can simplify the quadratic program that VMCON attempts to solve.\n",
    "\n",
    "The QPP returns the **search direction, $\\delta$,** for a feasible optima. In the 1D case:\n",
    "* $\\delta > 0$ means we search to the 'right' (increasing `x` direction) for a feasible optima.\n",
    "* $\\delta < 0$ means we search to the 'left' (decreasing `x` direction) for a feasible optima."
   ]
  },
  {
   "cell_type": "code",
   "execution_count": null,
   "metadata": {},
   "outputs": [],
   "source": [
    "import plotly.graph_objects as go\n",
    "\n",
    "def Q_for_x0(delta):\n",
    "    # this is reduced because we have a 1D function and no hessian because 1D identity is 1\n",
    "    return f(X0) + delta*df(X0) + 0.5*delta**2\n",
    "\n",
    "def constraint_for_x0(delta):\n",
    "    return dc(X0)*delta + c(X0)\n",
    "\n",
    "deltas = np.linspace(-2, 2)\n",
    "\n",
    "fig = go.Figure()\n",
    "\n",
    "fig.add_scatter(x=deltas, y=Q_for_x0(deltas), name=\"Q(delta) | x0\")\n",
    "fig.add_scatter(x=deltas, y=constraint_for_x0(deltas), name=\"QPP constraint | x0\")\n",
    "fig.add_scatter(\n",
    "    x=[deltas[0], deltas[-1]], \n",
    "    y=[0, 0], \n",
    "    name=\"QPP constraint lower bound\",\n",
    "    mode=\"lines\",\n",
    "    line={\"dash\": \"dash\"}\n",
    ")\n",
    "fig.update_layout(xaxis_title=\"delta\")"
   ]
  },
  {
   "cell_type": "code",
   "execution_count": null,
   "metadata": {},
   "outputs": [],
   "source": [
    "delta_bound = (- c(X0))/dc(X0)\n",
    "\n",
    "print(\n",
    "    f\"QPP will be solvable for delta {'<=' if dc(X0) < 0 else '>='} \" \n",
    "    f\"{delta_bound}\"\n",
    ")"
   ]
  },
  {
   "cell_type": "markdown",
   "metadata": {},
   "source": [
    "We can verify the above by running VMCON and should expect $\\delta_1$ to be equal to the value above."
   ]
  },
  {
   "cell_type": "code",
   "execution_count": null,
   "metadata": {},
   "outputs": [],
   "source": [
    "from pyvmcon import Problem\n",
    "\n",
    "problem = Problem(\n",
    "    f=f,\n",
    "    df=df,\n",
    "    equality_constraints=[],\n",
    "    inequality_constraints=[lambda x: c(x)],\n",
    "    dequality_constraints=[],\n",
    "    dinequality_constraints=[lambda x: dc(x)]\n",
    ")"
   ]
  },
  {
   "cell_type": "code",
   "execution_count": null,
   "metadata": {},
   "outputs": [],
   "source": [
    "from pyvmcon import solve\n",
    "\n",
    "x, _, _, result = solve(\n",
    "    problem, \n",
    "    np.array([X0]), \n",
    "    callback=lambda i, _r, x, _cp: print(f\"delta{i} = {x - X0}\"),\n",
    ")"
   ]
  },
  {
   "cell_type": "markdown",
   "metadata": {},
   "source": [
    "## Bounding `x`\n",
    "\n",
    "We can setup a bound such that the QPP becomes unsolvable because the linearised constraint and bound specify disjoint bounds on the delta."
   ]
  },
  {
   "cell_type": "code",
   "execution_count": null,
   "metadata": {},
   "outputs": [],
   "source": [
    "x, _, _, result = solve(\n",
    "    problem, \n",
    "    np.array([X0]), \n",
    "    ubs=np.array([1.6]),\n",
    "    callback=lambda i, _r, x, _cp: print(f\"x({i}) = {x}\"),\n",
    ")"
   ]
  }
 ],
 "metadata": {
  "kernelspec": {
   "display_name": ".venv",
   "language": "python",
   "name": "python3"
  },
  "language_info": {
   "codemirror_mode": {
    "name": "ipython",
    "version": 3
   },
   "file_extension": ".py",
   "mimetype": "text/x-python",
   "name": "python",
   "nbconvert_exporter": "python",
   "pygments_lexer": "ipython3",
   "version": "3.10.12"
  }
 },
 "nbformat": 4,
 "nbformat_minor": 2
}
