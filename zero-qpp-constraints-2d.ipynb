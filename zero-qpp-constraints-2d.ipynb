{
 "cells": [
  {
   "cell_type": "markdown",
   "metadata": {},
   "source": [
    "# A Zeroing of the QPP Constraints"
   ]
  },
  {
   "cell_type": "code",
   "execution_count": null,
   "metadata": {},
   "outputs": [],
   "source": [
    "import numpy as np\n",
    "\n",
    "def f(x):\n",
    "    # f(x, y) = x^2 + y^2\n",
    "    return x[..., 0]**2 + x[..., 1]**2\n",
    "\n",
    "def df(x):\n",
    "    return np.array([2*x[..., 0], 2*x[..., 1]])\n",
    "\n",
    "def c1(x):\n",
    "    # c1(x, y) = 4xy + y (>= 0)\n",
    "    return 4*x[..., 0]*x[..., 1] + x[..., 1]\n",
    "\n",
    "def dc1(x):\n",
    "    return np.array([4*x[..., 1], 4*x[..., 0] + 1])\n",
    "\n",
    "def c2(x):\n",
    "    # c2(x, y) = -x^2 - y (>= 0)\n",
    "    return -(x[..., 0]**2) - 9*x[..., 1]\n",
    "\n",
    "def dc2(x):\n",
    "    return np.array([-2*x[..., 0], -9])\n"
   ]
  },
  {
   "cell_type": "code",
   "execution_count": null,
   "metadata": {},
   "outputs": [],
   "source": [
    "import plotly.graph_objects as go\n",
    "\n",
    "x, y = np.linspace(-4, 4), np.linspace(-4, 4)\n",
    "zf = np.empty((x.shape[0], y.shape[0]))\n",
    "zc1 = np.empty((x.shape[0], y.shape[0]))\n",
    "zc2 = np.empty((x.shape[0], y.shape[0]))\n",
    "\n",
    "for i in range(x.shape[0]):\n",
    "    for j in range(y.shape[0]):\n",
    "        zf[i, j] = f(np.array([x[i], y[j]]))\n",
    "        zc1[i, j] = c1(np.array([x[i], y[j]]))\n",
    "        zc2[i, j] = c2(np.array([x[i], y[j]]))\n",
    "\n",
    "\n",
    "fig = go.Figure(\n",
    "    data=[go.Surface(\n",
    "        x=x, y=y, z=zf\n",
    "    )]\n",
    ")\n",
    "fig.update_layout(title=\"f(x)\")\n",
    "fig.show()\n",
    "\n",
    "\n",
    "fig = go.Figure(\n",
    "    data=[go.Surface(\n",
    "        x=x, y=y, z=zc1\n",
    "    )]\n",
    ")\n",
    "fig.update_layout(title=\"c1(x)\")\n",
    "fig.show()\n",
    "\n",
    "\n",
    "fig = go.Figure(\n",
    "    data=[go.Surface(\n",
    "        x=x, y=y, z=zc2\n",
    "    )]\n",
    ")\n",
    "fig.update_layout(title=\"c2(x)\")\n",
    "fig.show()\n",
    "\n"
   ]
  },
  {
   "cell_type": "code",
   "execution_count": null,
   "metadata": {},
   "outputs": [],
   "source": [
    "from pyvmcon import Problem\n",
    "\n",
    "problem = Problem(\n",
    "    f=f,\n",
    "    df=df,\n",
    "    equality_constraints=[],\n",
    "    inequality_constraints=[lambda x: c1(x), lambda x: c2(x)],\n",
    "    dequality_constraints=[],\n",
    "    dinequality_constraints=[lambda x: dc1(x), lambda x: dc2(x)]\n",
    ")"
   ]
  },
  {
   "cell_type": "code",
   "execution_count": null,
   "metadata": {},
   "outputs": [],
   "source": [
    "INITIAL_X_QPP_SOLVES = np.array([2, 2])\n",
    "\n",
    "print(f\"f'(x0) = {df(INITIAL_X_QPP_SOLVES)}\")\n",
    "print(f\"c1(x0) = {c1(INITIAL_X_QPP_SOLVES)}\")\n",
    "print(f\"c1'(x0) = {dc1(INITIAL_X_QPP_SOLVES)}\")\n",
    "print(f\"c2(x0) = {c2(INITIAL_X_QPP_SOLVES)}\")\n",
    "print(f\"c2'(x0) = {dc2(INITIAL_X_QPP_SOLVES)}\")"
   ]
  },
  {
   "cell_type": "code",
   "execution_count": null,
   "metadata": {},
   "outputs": [],
   "source": [
    "from pyvmcon import solve\n",
    "\n",
    "x, _, _, result = solve(\n",
    "    problem, \n",
    "    x=INITIAL_X_QPP_SOLVES,\n",
    "    callback=lambda i, _r, _x, _cp: print(i),\n",
    ")\n",
    "\n",
    "print(x)\n"
   ]
  },
  {
   "cell_type": "code",
   "execution_count": null,
   "metadata": {},
   "outputs": [],
   "source": [
    "INITIAL_X_QPP_FAILS = np.array([2, 1])\n",
    "\n",
    "print(f\"f'(x0) = {df(INITIAL_X_QPP_FAILS)}\")\n",
    "print(f\"c1(x0) = {c1(INITIAL_X_QPP_FAILS)}\")\n",
    "print(f\"c1'(x0) = {dc1(INITIAL_X_QPP_FAILS)}\")\n",
    "print(f\"c2(x0) = {c2(INITIAL_X_QPP_FAILS)}\")\n",
    "print(f\"c2'(x0) = {dc2(INITIAL_X_QPP_FAILS)}\")"
   ]
  },
  {
   "cell_type": "code",
   "execution_count": null,
   "metadata": {},
   "outputs": [],
   "source": [
    "from pyvmcon import solve\n",
    "\n",
    "x, _, _, result = solve(\n",
    "    problem, \n",
    "    x=INITIAL_X_QPP_FAILS,\n",
    "    callback=lambda i, _r, _x, _cp: print(i)\n",
    ")\n",
    "\n",
    "print(x)"
   ]
  }
 ],
 "metadata": {
  "kernelspec": {
   "display_name": ".venv",
   "language": "python",
   "name": "python3"
  },
  "language_info": {
   "codemirror_mode": {
    "name": "ipython",
    "version": 3
   },
   "file_extension": ".py",
   "mimetype": "text/x-python",
   "name": "python",
   "nbconvert_exporter": "python",
   "pygments_lexer": "ipython3",
   "version": "3.10.12"
  }
 },
 "nbformat": 4,
 "nbformat_minor": 2
}
